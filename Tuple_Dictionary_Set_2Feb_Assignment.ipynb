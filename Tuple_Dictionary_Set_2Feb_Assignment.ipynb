{
 "cells": [
  {
   "cell_type": "raw",
   "id": "fcba5d7e",
   "metadata": {},
   "source": [
    "Q1>\n",
    "Tuple items are ordered, unchangeable, and allow duplicate values. Tuple items are indexed, the first item has index [0] , the second item has index [1]\n",
    "tuples are immutable."
   ]
  },
  {
   "cell_type": "raw",
   "id": "b2491b85",
   "metadata": {},
   "source": [
    "Q2>\n",
    "There are only two tuple methods count() and index()"
   ]
  },
  {
   "cell_type": "code",
   "execution_count": 1,
   "id": "2d2f6f45",
   "metadata": {},
   "outputs": [
    {
     "name": "stdout",
     "output_type": "stream",
     "text": [
      "2\n"
     ]
    }
   ],
   "source": [
    "# tuple of vowels\n",
    "vowels = ('a', 'e', 'i', 'o', 'i', 'u')\n",
    "\n",
    "# counts the number of i's in the tuple\n",
    "count = vowels.count('i')\n",
    "\n",
    "print(count) \n"
   ]
  },
  {
   "cell_type": "code",
   "execution_count": 2,
   "id": "0f401cf7",
   "metadata": {},
   "outputs": [
    {
     "name": "stdout",
     "output_type": "stream",
     "text": [
      "1\n"
     ]
    }
   ],
   "source": [
    "# tuple containing vowels\n",
    "vowels = ('a', 'e', 'i', 'o', 'u')\n",
    "\n",
    "# index of 'e' in vowels\n",
    "index = vowels.index('e')\n",
    "\n",
    "print(index)"
   ]
  },
  {
   "cell_type": "markdown",
   "id": "dac69792",
   "metadata": {},
   "source": [
    "Q3> Sets collection datatypes in python do not allow duplicate items?"
   ]
  },
  {
   "cell_type": "code",
   "execution_count": 3,
   "id": "7bf7c4a8",
   "metadata": {},
   "outputs": [
    {
     "name": "stdout",
     "output_type": "stream",
     "text": [
      "{1, 2, 3, 4}\n"
     ]
    }
   ],
   "source": [
    "List = [1, 1, 1, 2, 1, 3, 1, 4, 2, 1, 2, 2, 2, 3, 2, 4, 3, 1, 3, 2, 3, 3, 3, 4, 4, 1, 4, 2, 4, 3, 4, 4]\n",
    "s=set(List)\n",
    "print(s)"
   ]
  },
  {
   "cell_type": "markdown",
   "id": "df5394cf",
   "metadata": {},
   "source": [
    "Q4> Explain the difference between the union() and update() methods for a set. Give an example of\n",
    "each method.\n",
    "Both set.update() and set.union() perform the union operation. However, set.update() adds all missing elements to the set on which it is called whereas set.union() creates a new set. Consequently, the return value of set.update() is None (with side effects) and the return value of set.union() is a set (without side effects).\n",
    "\n"
   ]
  },
  {
   "cell_type": "code",
   "execution_count": 5,
   "id": "d3ddfd35",
   "metadata": {},
   "outputs": [
    {
     "data": {
      "text/plain": [
       "{1, 2, 3, 4, 5, 6}"
      ]
     },
     "execution_count": 5,
     "metadata": {},
     "output_type": "execute_result"
    }
   ],
   "source": [
    "s1={1,3,5}\n",
    "s2={2,4,6}\n",
    "s3=s1.union(s2)\n",
    "s3"
   ]
  },
  {
   "cell_type": "code",
   "execution_count": 6,
   "id": "c126c097",
   "metadata": {},
   "outputs": [
    {
     "name": "stdout",
     "output_type": "stream",
     "text": [
      "{1, 2, 3, 4, 5, 6}\n",
      "{2, 4, 6}\n"
     ]
    }
   ],
   "source": [
    "s1.update(s2)\n",
    "print(s1)\n",
    "print(s2)"
   ]
  },
  {
   "cell_type": "markdown",
   "id": "b53f06d7",
   "metadata": {},
   "source": [
    "Q5> dictionary in Python is a collection of key-value pairs. The dictionary keys must be unique. The dictionary value may be of any type\n",
    "A dictionary is a collection which is ordered"
   ]
  },
  {
   "cell_type": "code",
   "execution_count": 11,
   "id": "a8175a5f",
   "metadata": {},
   "outputs": [
    {
     "data": {
      "text/plain": [
       "{'Name': 'Rushi', 'Age': 21, 'Degree': 'Btech'}"
      ]
     },
     "execution_count": 11,
     "metadata": {},
     "output_type": "execute_result"
    }
   ],
   "source": [
    "d1={\"Name\":\"Rushi\",\"Age\":21,\"Degree\":\"Btech\"}\n",
    "d1\n",
    "\n",
    "    "
   ]
  },
  {
   "cell_type": "markdown",
   "id": "655435d3",
   "metadata": {},
   "source": [
    "Q 6> Yes we create a nested dictionary.\n"
   ]
  },
  {
   "cell_type": "code",
   "execution_count": 12,
   "id": "1906833e",
   "metadata": {},
   "outputs": [
    {
     "data": {
      "text/plain": [
       "{'Name': 'Rushi', 'Grade': {'SSC': 90, 'HSC': 70, 'Btech': 9.24}}"
      ]
     },
     "execution_count": 12,
     "metadata": {},
     "output_type": "execute_result"
    }
   ],
   "source": [
    "d1={\"Name\":\"Rushi\", \"Grade\":{\"SSC\":90,\"HSC\":70,\"Btech\": 9.24}}\n",
    "d1"
   ]
  },
  {
   "cell_type": "markdown",
   "id": "4dfb1dcc",
   "metadata": {},
   "source": [
    "Q7 The setdefault() method returns the value of a key (if the key is in dictionary). If not, it inserts key with a value to the dictionary."
   ]
  },
  {
   "cell_type": "code",
   "execution_count": 24,
   "id": "84dd3bf8",
   "metadata": {},
   "outputs": [
    {
     "name": "stdout",
     "output_type": "stream",
     "text": [
      "['Python', 'Machine Learning', 'Deep Larning']\n"
     ]
    }
   ],
   "source": [
    "dict1 = {'language' : 'Python', 'course': 'Data Science Masters','Topics':\"RD\"}\n",
    "\n",
    "x=d.setdefault(\"Topics\",[\"Python\",\"Machine Learning\",\"Deep Larning\"])\n",
    "print(x)\n"
   ]
  },
  {
   "cell_type": "markdown",
   "id": "28434ade",
   "metadata": {},
   "source": [
    "Q 8>The main view objects of dictionary in python are keys, values and items.\n"
   ]
  },
  {
   "cell_type": "code",
   "execution_count": 25,
   "id": "5e8476e2",
   "metadata": {},
   "outputs": [
    {
     "data": {
      "text/plain": [
       "dict_keys(['Name', 'Age', 'Degree'])"
      ]
     },
     "execution_count": 25,
     "metadata": {},
     "output_type": "execute_result"
    }
   ],
   "source": [
    "d1={\"Name\":\"Rushi\",\"Age\":21,\"Degree\":\"Btech\"}\n",
    "d1.keys()"
   ]
  },
  {
   "cell_type": "code",
   "execution_count": 26,
   "id": "da38e940",
   "metadata": {},
   "outputs": [
    {
     "data": {
      "text/plain": [
       "dict_values(['Rushi', 21, 'Btech'])"
      ]
     },
     "execution_count": 26,
     "metadata": {},
     "output_type": "execute_result"
    }
   ],
   "source": [
    "d1.values()"
   ]
  },
  {
   "cell_type": "code",
   "execution_count": 27,
   "id": "815bbeef",
   "metadata": {},
   "outputs": [
    {
     "data": {
      "text/plain": [
       "dict_items([('Name', 'Rushi'), ('Age', 21), ('Degree', 'Btech')])"
      ]
     },
     "execution_count": 27,
     "metadata": {},
     "output_type": "execute_result"
    }
   ],
   "source": [
    "d1.items()"
   ]
  }
 ],
 "metadata": {
  "kernelspec": {
   "display_name": "Python 3 (ipykernel)",
   "language": "python",
   "name": "python3"
  },
  "language_info": {
   "codemirror_mode": {
    "name": "ipython",
    "version": 3
   },
   "file_extension": ".py",
   "mimetype": "text/x-python",
   "name": "python",
   "nbconvert_exporter": "python",
   "pygments_lexer": "ipython3",
   "version": "3.9.13"
  }
 },
 "nbformat": 4,
 "nbformat_minor": 5
}
